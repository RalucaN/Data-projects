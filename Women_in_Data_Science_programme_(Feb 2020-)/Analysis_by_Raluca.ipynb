{
 "cells": [
  {
   "cell_type": "code",
   "execution_count": 1,
   "metadata": {},
   "outputs": [
    {
     "name": "stderr",
     "output_type": "stream",
     "text": [
      "Using TensorFlow backend.\n"
     ]
    }
   ],
   "source": [
    "import pandas as pd\n",
    "import numpy as np\n",
    "from sklearn.model_selection import train_test_split\n",
    "from sklearn import tree\n",
    "from sklearn import preprocessing\n",
    "from sklearn.metrics import classification_report\n",
    "from keras.models import Sequential\n",
    "from keras.layers import Dense"
   ]
  },
  {
   "cell_type": "code",
   "execution_count": 2,
   "metadata": {},
   "outputs": [],
   "source": [
    "data = pd.read_csv(\"Data_processed.csv\")"
   ]
  },
  {
   "cell_type": "code",
   "execution_count": 3,
   "metadata": {},
   "outputs": [
    {
     "data": {
      "text/html": [
       "<div>\n",
       "<style scoped>\n",
       "    .dataframe tbody tr th:only-of-type {\n",
       "        vertical-align: middle;\n",
       "    }\n",
       "\n",
       "    .dataframe tbody tr th {\n",
       "        vertical-align: top;\n",
       "    }\n",
       "\n",
       "    .dataframe thead th {\n",
       "        text-align: right;\n",
       "    }\n",
       "</style>\n",
       "<table border=\"1\" class=\"dataframe\">\n",
       "  <thead>\n",
       "    <tr style=\"text-align: right;\">\n",
       "      <th></th>\n",
       "      <th>X</th>\n",
       "      <th>Date</th>\n",
       "      <th>Zone1Position</th>\n",
       "      <th>Zone2Position</th>\n",
       "      <th>Zone3Position</th>\n",
       "      <th>SKU</th>\n",
       "      <th>Zone1_Row_Num</th>\n",
       "      <th>Zone1_Col_Num</th>\n",
       "      <th>Zone2_Row_Num</th>\n",
       "      <th>Zone2_Col_num</th>\n",
       "      <th>...</th>\n",
       "      <th>Zone2_Humidity_Max</th>\n",
       "      <th>Zone2_Humidity_Range</th>\n",
       "      <th>Zone3_Humidity_Avg</th>\n",
       "      <th>Zone3_Humidity_Min</th>\n",
       "      <th>Zone3_Humidity_Max</th>\n",
       "      <th>Zone3_Humidity_Range</th>\n",
       "      <th>Block_Num</th>\n",
       "      <th>Block_Position</th>\n",
       "      <th>Block_Orientation</th>\n",
       "      <th>Result_Type</th>\n",
       "    </tr>\n",
       "  </thead>\n",
       "  <tbody>\n",
       "    <tr>\n",
       "      <td>0</td>\n",
       "      <td>1</td>\n",
       "      <td>09/01/2020</td>\n",
       "      <td>3.0</td>\n",
       "      <td>2.0</td>\n",
       "      <td>3.0</td>\n",
       "      <td>A001</td>\n",
       "      <td>1.0</td>\n",
       "      <td>3.0</td>\n",
       "      <td>1.0</td>\n",
       "      <td>2.0</td>\n",
       "      <td>...</td>\n",
       "      <td>61.80</td>\n",
       "      <td>10.0</td>\n",
       "      <td>39.19</td>\n",
       "      <td>33.19</td>\n",
       "      <td>45.19</td>\n",
       "      <td>12.0</td>\n",
       "      <td>1000.0</td>\n",
       "      <td>1.0</td>\n",
       "      <td>1</td>\n",
       "      <td>Defect_1</td>\n",
       "    </tr>\n",
       "    <tr>\n",
       "      <td>1</td>\n",
       "      <td>2</td>\n",
       "      <td>03/12/2019</td>\n",
       "      <td>8.0</td>\n",
       "      <td>4.0</td>\n",
       "      <td>3.0</td>\n",
       "      <td>A001</td>\n",
       "      <td>2.0</td>\n",
       "      <td>4.0</td>\n",
       "      <td>2.0</td>\n",
       "      <td>2.0</td>\n",
       "      <td>...</td>\n",
       "      <td>58.12</td>\n",
       "      <td>16.0</td>\n",
       "      <td>48.50</td>\n",
       "      <td>40.50</td>\n",
       "      <td>56.50</td>\n",
       "      <td>16.0</td>\n",
       "      <td>1003.0</td>\n",
       "      <td>1.0</td>\n",
       "      <td>1</td>\n",
       "      <td>Defect_1</td>\n",
       "    </tr>\n",
       "    <tr>\n",
       "      <td>2</td>\n",
       "      <td>3</td>\n",
       "      <td>21/11/2019</td>\n",
       "      <td>4.0</td>\n",
       "      <td>2.0</td>\n",
       "      <td>3.0</td>\n",
       "      <td>B003</td>\n",
       "      <td>1.0</td>\n",
       "      <td>4.0</td>\n",
       "      <td>1.0</td>\n",
       "      <td>2.0</td>\n",
       "      <td>...</td>\n",
       "      <td>50.97</td>\n",
       "      <td>10.0</td>\n",
       "      <td>52.20</td>\n",
       "      <td>46.20</td>\n",
       "      <td>58.20</td>\n",
       "      <td>12.0</td>\n",
       "      <td>1001.0</td>\n",
       "      <td>4.0</td>\n",
       "      <td>1</td>\n",
       "      <td>PASS</td>\n",
       "    </tr>\n",
       "    <tr>\n",
       "      <td>3</td>\n",
       "      <td>4</td>\n",
       "      <td>22/11/2019</td>\n",
       "      <td>6.0</td>\n",
       "      <td>3.0</td>\n",
       "      <td>1.0</td>\n",
       "      <td>B003</td>\n",
       "      <td>2.0</td>\n",
       "      <td>2.0</td>\n",
       "      <td>2.0</td>\n",
       "      <td>1.0</td>\n",
       "      <td>...</td>\n",
       "      <td>59.13</td>\n",
       "      <td>4.0</td>\n",
       "      <td>39.29</td>\n",
       "      <td>31.29</td>\n",
       "      <td>47.29</td>\n",
       "      <td>16.0</td>\n",
       "      <td>1003.0</td>\n",
       "      <td>2.0</td>\n",
       "      <td>1</td>\n",
       "      <td>PASS</td>\n",
       "    </tr>\n",
       "    <tr>\n",
       "      <td>4</td>\n",
       "      <td>5</td>\n",
       "      <td>23/12/2019</td>\n",
       "      <td>3.0</td>\n",
       "      <td>2.0</td>\n",
       "      <td>3.0</td>\n",
       "      <td>B003</td>\n",
       "      <td>1.0</td>\n",
       "      <td>3.0</td>\n",
       "      <td>1.0</td>\n",
       "      <td>2.0</td>\n",
       "      <td>...</td>\n",
       "      <td>65.80</td>\n",
       "      <td>18.0</td>\n",
       "      <td>45.37</td>\n",
       "      <td>42.37</td>\n",
       "      <td>48.37</td>\n",
       "      <td>6.0</td>\n",
       "      <td>1002.0</td>\n",
       "      <td>1.0</td>\n",
       "      <td>1</td>\n",
       "      <td>PASS</td>\n",
       "    </tr>\n",
       "  </tbody>\n",
       "</table>\n",
       "<p>5 rows × 53 columns</p>\n",
       "</div>"
      ],
      "text/plain": [
       "   X        Date  Zone1Position  Zone2Position  Zone3Position   SKU  \\\n",
       "0  1  09/01/2020            3.0            2.0            3.0  A001   \n",
       "1  2  03/12/2019            8.0            4.0            3.0  A001   \n",
       "2  3  21/11/2019            4.0            2.0            3.0  B003   \n",
       "3  4  22/11/2019            6.0            3.0            1.0  B003   \n",
       "4  5  23/12/2019            3.0            2.0            3.0  B003   \n",
       "\n",
       "   Zone1_Row_Num  Zone1_Col_Num  Zone2_Row_Num  Zone2_Col_num  ...  \\\n",
       "0            1.0            3.0            1.0            2.0  ...   \n",
       "1            2.0            4.0            2.0            2.0  ...   \n",
       "2            1.0            4.0            1.0            2.0  ...   \n",
       "3            2.0            2.0            2.0            1.0  ...   \n",
       "4            1.0            3.0            1.0            2.0  ...   \n",
       "\n",
       "   Zone2_Humidity_Max  Zone2_Humidity_Range  Zone3_Humidity_Avg  \\\n",
       "0               61.80                  10.0               39.19   \n",
       "1               58.12                  16.0               48.50   \n",
       "2               50.97                  10.0               52.20   \n",
       "3               59.13                   4.0               39.29   \n",
       "4               65.80                  18.0               45.37   \n",
       "\n",
       "   Zone3_Humidity_Min Zone3_Humidity_Max Zone3_Humidity_Range  Block_Num  \\\n",
       "0               33.19              45.19                 12.0     1000.0   \n",
       "1               40.50              56.50                 16.0     1003.0   \n",
       "2               46.20              58.20                 12.0     1001.0   \n",
       "3               31.29              47.29                 16.0     1003.0   \n",
       "4               42.37              48.37                  6.0     1002.0   \n",
       "\n",
       "   Block_Position  Block_Orientation  Result_Type  \n",
       "0             1.0                  1     Defect_1  \n",
       "1             1.0                  1     Defect_1  \n",
       "2             4.0                  1         PASS  \n",
       "3             2.0                  1         PASS  \n",
       "4             1.0                  1         PASS  \n",
       "\n",
       "[5 rows x 53 columns]"
      ]
     },
     "execution_count": 3,
     "metadata": {},
     "output_type": "execute_result"
    }
   ],
   "source": [
    "data[:5]"
   ]
  },
  {
   "cell_type": "code",
   "execution_count": 4,
   "metadata": {},
   "outputs": [
    {
     "data": {
      "text/plain": [
       "count     75750\n",
       "unique        2\n",
       "top           0\n",
       "freq      54720\n",
       "Name: Result_binary, dtype: object"
      ]
     },
     "execution_count": 4,
     "metadata": {},
     "output_type": "execute_result"
    }
   ],
   "source": [
    "data[\"Result_binary\"] = np.where(data['Result_Type']== \"PASS\", \n",
    "                                 '0', '1')\n",
    "data[\"Result_binary\"].describe()"
   ]
  },
  {
   "cell_type": "code",
   "execution_count": 5,
   "metadata": {},
   "outputs": [],
   "source": [
    "data_model=data[[\"Zone1Position\", \"Zone2Position\", \"Zone3Position\", \"SKU\", \"Block_Num\", \"Block_Position\", \n",
    "                \"Result_Type\", \"Zone3_Humidity_Avg\", \"Zone2_Humidity_Avg\", \"Zone1_Humidity_Avg\",\"Zone3_Temp_Avg\",\n",
    "               \"Zone2_Temp_Avg\", \"Zone1_Temp_Avg\", \"Zone1_Dur\", \"Zone2_Dur\", \"Zone3_Dur\"]]\n",
    "\n",
    "data_model2=data[[\"Zone1Position\", \"Zone2Position\", \"Zone3Position\", \"SKU\", \"Block_Num\", \"Block_Position\", \n",
    "                \"Result_Type\", \"Zone3_Humidity_Range\", \"Zone2_Humidity_Range\", \"Zone1_Humidity_Range\",\n",
    "                  \"Zone3_Temp_Range\",\"Zone2_Temp_Range\", \"Zone1_Temp_Range\", \"Zone1_Dur\", \"Zone2_Dur\", \"Zone3_Dur\"]]\n",
    "\n",
    "#the choice of features for data_model2 is based on the results of the multinomial regression models (see the R script)"
   ]
  },
  {
   "cell_type": "code",
   "execution_count": 6,
   "metadata": {},
   "outputs": [
    {
     "name": "stdout",
     "output_type": "stream",
     "text": [
      "<class 'pandas.core.frame.DataFrame'>\n",
      "RangeIndex: 75750 entries, 0 to 75749\n",
      "Data columns (total 16 columns):\n",
      "Zone1Position         75750 non-null float64\n",
      "Zone2Position         75750 non-null float64\n",
      "Zone3Position         75750 non-null float64\n",
      "SKU                   75711 non-null object\n",
      "Block_Num             75708 non-null float64\n",
      "Block_Position        75711 non-null float64\n",
      "Result_Type           75750 non-null object\n",
      "Zone3_Humidity_Avg    75710 non-null float64\n",
      "Zone2_Humidity_Avg    75715 non-null float64\n",
      "Zone1_Humidity_Avg    75716 non-null float64\n",
      "Zone3_Temp_Avg        75707 non-null float64\n",
      "Zone2_Temp_Avg        75699 non-null float64\n",
      "Zone1_Temp_Avg        75698 non-null float64\n",
      "Zone1_Dur             75713 non-null float64\n",
      "Zone2_Dur             75708 non-null float64\n",
      "Zone3_Dur             75703 non-null float64\n",
      "dtypes: float64(14), object(2)\n",
      "memory usage: 9.2+ MB\n"
     ]
    }
   ],
   "source": [
    "data_model.info(verbose=True)"
   ]
  },
  {
   "cell_type": "code",
   "execution_count": 7,
   "metadata": {},
   "outputs": [
    {
     "name": "stdout",
     "output_type": "stream",
     "text": [
      "<class 'pandas.core.frame.DataFrame'>\n",
      "RangeIndex: 75750 entries, 0 to 75749\n",
      "Data columns (total 16 columns):\n",
      "Zone1Position           75750 non-null float64\n",
      "Zone2Position           75750 non-null float64\n",
      "Zone3Position           75750 non-null float64\n",
      "SKU                     75711 non-null object\n",
      "Block_Num               75708 non-null float64\n",
      "Block_Position          75711 non-null float64\n",
      "Result_Type             75750 non-null object\n",
      "Zone3_Humidity_Range    75750 non-null float64\n",
      "Zone2_Humidity_Range    75750 non-null float64\n",
      "Zone1_Humidity_Range    75750 non-null float64\n",
      "Zone3_Temp_Range        75750 non-null float64\n",
      "Zone2_Temp_Range        75750 non-null float64\n",
      "Zone1_Temp_Range        75750 non-null float64\n",
      "Zone1_Dur               75713 non-null float64\n",
      "Zone2_Dur               75708 non-null float64\n",
      "Zone3_Dur               75703 non-null float64\n",
      "dtypes: float64(14), object(2)\n",
      "memory usage: 9.2+ MB\n"
     ]
    }
   ],
   "source": [
    "data_model2.info(verbose=True)"
   ]
  },
  {
   "cell_type": "code",
   "execution_count": 8,
   "metadata": {},
   "outputs": [],
   "source": [
    "train_data, test_data = train_test_split(data_model2.dropna(), test_size = 0.2)"
   ]
  },
  {
   "cell_type": "markdown",
   "metadata": {},
   "source": [
    "1. Decision Tree"
   ]
  },
  {
   "cell_type": "code",
   "execution_count": 9,
   "metadata": {},
   "outputs": [
    {
     "data": {
      "text/html": [
       "<div>\n",
       "<style scoped>\n",
       "    .dataframe tbody tr th:only-of-type {\n",
       "        vertical-align: middle;\n",
       "    }\n",
       "\n",
       "    .dataframe tbody tr th {\n",
       "        vertical-align: top;\n",
       "    }\n",
       "\n",
       "    .dataframe thead th {\n",
       "        text-align: right;\n",
       "    }\n",
       "</style>\n",
       "<table border=\"1\" class=\"dataframe\">\n",
       "  <thead>\n",
       "    <tr style=\"text-align: right;\">\n",
       "      <th>Predicted</th>\n",
       "      <th>Defect_1</th>\n",
       "      <th>Defect_2</th>\n",
       "      <th>Defect_3</th>\n",
       "      <th>Defect_4</th>\n",
       "      <th>Defect_5</th>\n",
       "      <th>PASS</th>\n",
       "      <th>All</th>\n",
       "    </tr>\n",
       "    <tr>\n",
       "      <th>True</th>\n",
       "      <th></th>\n",
       "      <th></th>\n",
       "      <th></th>\n",
       "      <th></th>\n",
       "      <th></th>\n",
       "      <th></th>\n",
       "      <th></th>\n",
       "    </tr>\n",
       "  </thead>\n",
       "  <tbody>\n",
       "    <tr>\n",
       "      <td>Defect_1</td>\n",
       "      <td>667</td>\n",
       "      <td>2</td>\n",
       "      <td>8</td>\n",
       "      <td>12</td>\n",
       "      <td>5</td>\n",
       "      <td>142</td>\n",
       "      <td>836</td>\n",
       "    </tr>\n",
       "    <tr>\n",
       "      <td>Defect_2</td>\n",
       "      <td>1</td>\n",
       "      <td>624</td>\n",
       "      <td>7</td>\n",
       "      <td>6</td>\n",
       "      <td>7</td>\n",
       "      <td>151</td>\n",
       "      <td>796</td>\n",
       "    </tr>\n",
       "    <tr>\n",
       "      <td>Defect_3</td>\n",
       "      <td>17</td>\n",
       "      <td>9</td>\n",
       "      <td>542</td>\n",
       "      <td>49</td>\n",
       "      <td>49</td>\n",
       "      <td>763</td>\n",
       "      <td>1429</td>\n",
       "    </tr>\n",
       "    <tr>\n",
       "      <td>Defect_4</td>\n",
       "      <td>8</td>\n",
       "      <td>6</td>\n",
       "      <td>43</td>\n",
       "      <td>51</td>\n",
       "      <td>35</td>\n",
       "      <td>481</td>\n",
       "      <td>624</td>\n",
       "    </tr>\n",
       "    <tr>\n",
       "      <td>Defect_5</td>\n",
       "      <td>11</td>\n",
       "      <td>9</td>\n",
       "      <td>55</td>\n",
       "      <td>38</td>\n",
       "      <td>30</td>\n",
       "      <td>444</td>\n",
       "      <td>587</td>\n",
       "    </tr>\n",
       "    <tr>\n",
       "      <td>PASS</td>\n",
       "      <td>149</td>\n",
       "      <td>142</td>\n",
       "      <td>764</td>\n",
       "      <td>665</td>\n",
       "      <td>655</td>\n",
       "      <td>8454</td>\n",
       "      <td>10829</td>\n",
       "    </tr>\n",
       "    <tr>\n",
       "      <td>All</td>\n",
       "      <td>853</td>\n",
       "      <td>792</td>\n",
       "      <td>1419</td>\n",
       "      <td>821</td>\n",
       "      <td>781</td>\n",
       "      <td>10435</td>\n",
       "      <td>15101</td>\n",
       "    </tr>\n",
       "  </tbody>\n",
       "</table>\n",
       "</div>"
      ],
      "text/plain": [
       "Predicted  Defect_1  Defect_2  Defect_3  Defect_4  Defect_5   PASS    All\n",
       "True                                                                     \n",
       "Defect_1        667         2         8        12         5    142    836\n",
       "Defect_2          1       624         7         6         7    151    796\n",
       "Defect_3         17         9       542        49        49    763   1429\n",
       "Defect_4          8         6        43        51        35    481    624\n",
       "Defect_5         11         9        55        38        30    444    587\n",
       "PASS            149       142       764       665       655   8454  10829\n",
       "All             853       792      1419       821       781  10435  15101"
      ]
     },
     "execution_count": 9,
     "metadata": {},
     "output_type": "execute_result"
    }
   ],
   "source": [
    "dt = tree.DecisionTreeClassifier()\n",
    "x_train = pd.get_dummies(train_data[[\"Zone1Position\", \"Zone2Position\", \"Zone3Position\", \"SKU\", \"Block_Num\", \n",
    "                                     \"Block_Position\",\"Zone3_Humidity_Range\", \"Zone2_Humidity_Range\", \n",
    "                                     \"Zone1_Humidity_Range\",\"Zone3_Temp_Range\",\"Zone2_Temp_Range\", \"Zone1_Temp_Range\",\n",
    "                                     \"Zone1_Dur\", \"Zone2_Dur\",\"Zone3_Dur\"]],drop_first=True)\n",
    "y_train = train_data[\"Result_Type\"]\n",
    "dt = dt.fit(x_train, y_train)\n",
    "x_test = pd.get_dummies(test_data[[\"Zone1Position\", \"Zone2Position\", \"Zone3Position\", \"SKU\", \"Block_Num\", \n",
    "                                     \"Block_Position\",\"Zone3_Humidity_Range\", \"Zone2_Humidity_Range\", \n",
    "                                     \"Zone1_Humidity_Range\",\"Zone3_Temp_Range\",\"Zone2_Temp_Range\", \"Zone1_Temp_Range\",\n",
    "                                     \"Zone1_Dur\", \"Zone2_Dur\",\"Zone3_Dur\"]],drop_first=True)\n",
    "y_test = test_data[\"Result_Type\"]\n",
    "y_pred = dt.predict(x_test)\n",
    "pd.crosstab(y_test, y_pred, rownames=['True'], colnames=['Predicted'], margins=True)"
   ]
  },
  {
   "cell_type": "code",
   "execution_count": 10,
   "metadata": {},
   "outputs": [
    {
     "name": "stdout",
     "output_type": "stream",
     "text": [
      "              precision    recall  f1-score   support\n",
      "\n",
      "    Defect_1       0.78      0.80      0.79       836\n",
      "    Defect_2       0.79      0.78      0.79       796\n",
      "    Defect_3       0.38      0.38      0.38      1429\n",
      "    Defect_4       0.06      0.08      0.07       624\n",
      "    Defect_5       0.04      0.05      0.04       587\n",
      "        PASS       0.81      0.78      0.80     10829\n",
      "\n",
      "    accuracy                           0.69     15101\n",
      "   macro avg       0.48      0.48      0.48     15101\n",
      "weighted avg       0.71      0.69      0.70     15101\n",
      "\n"
     ]
    }
   ],
   "source": [
    "print(classification_report(y_test, y_pred))"
   ]
  },
  {
   "cell_type": "markdown",
   "metadata": {},
   "source": [
    "<b> 2. Neural network </b> "
   ]
  },
  {
   "cell_type": "code",
   "execution_count": 12,
   "metadata": {},
   "outputs": [
    {
     "data": {
      "text/plain": [
       "array([[0.42857143, 0.33333333, 0.2       , ..., 1.        , 0.        ,\n",
       "        0.        ],\n",
       "       [0.        , 0.        , 0.        , ..., 0.        , 0.        ,\n",
       "        0.        ],\n",
       "       [0.28571429, 0.33333333, 0.2       , ..., 1.        , 0.        ,\n",
       "        0.        ],\n",
       "       ...,\n",
       "       [0.14285714, 0.        , 0.2       , ..., 1.        , 0.        ,\n",
       "        0.        ],\n",
       "       [1.        , 1.        , 0.4       , ..., 1.        , 0.        ,\n",
       "        0.        ],\n",
       "       [0.28571429, 0.33333333, 1.        , ..., 0.        , 0.        ,\n",
       "        0.        ]])"
      ]
     },
     "execution_count": 12,
     "metadata": {},
     "output_type": "execute_result"
    }
   ],
   "source": [
    "min_max_scaler = preprocessing.MinMaxScaler()\n",
    "x_train_scale = min_max_scaler.fit_transform(x_train)\n",
    "x_test_scale = min_max_scaler.fit_transform(x_test)\n",
    "x_train_scale"
   ]
  },
  {
   "cell_type": "code",
   "execution_count": null,
   "metadata": {},
   "outputs": [],
   "source": []
  },
  {
   "cell_type": "markdown",
   "metadata": {},
   "source": [
    "2. Logistic regression"
   ]
  },
  {
   "cell_type": "code",
   "execution_count": 51,
   "metadata": {},
   "outputs": [],
   "source": [
    "data_model_logit=data[[\"Zone1Position\", \"Zone2Position\", \"Zone3Position\", \"SKU\", \"Block_Num\", \"Block_Position\",\n",
    "                       \"Result_binary\", \"Zone3_Humidity_Avg\", \"Zone2_Humidity_Avg\", \"Zone1_Humidity_Avg\",\n",
    "                       \"Zone3_Temp_Avg\",\"Zone2_Temp_Avg\", \"Zone1_Temp_Avg\", \"Zone1_Dur\", \"Zone2_Dur\", \"Zone3_Dur\"]]"
   ]
  },
  {
   "cell_type": "code",
   "execution_count": null,
   "metadata": {},
   "outputs": [],
   "source": [
    "from sklearn.preprocessing import StandardScaler\n",
    "train_data_lr, test_data_lr = train_test_split(data_model_logit, test_size = 0.2)\n",
    "scaler = StandardScaler()\n",
    "x_train_lr = scaler.fit_transform(pd.get_dummies(train_data_lr[[\"Zone1Position\", \"Zone2Position\", \"Zone3Position\", \"SKU\", \"Block_Num\", \n",
    "                                     \"Block_Position\",\"Zone3_Humidity_Avg\", \"Zone2_Humidity_Avg\", \"Zone1_Humidity_Avg\",\n",
    "                                     \"Zone3_Temp_Avg\",\"Zone2_Temp_Avg\", \"Zone1_Temp_Avg\", \"Zone1_Dur\", \"Zone2_Dur\", \n",
    "                                     \"Zone3_Dur\"]],drop_first=True))\n",
    "                           \n",
    "y_train_lr = train_data_lr[\"Result_binary\"]\n",
    "lr = LogisticRegression(random_state=0).fit(x_train_lr, y_train_lr)\n",
    "x_test_lr = scaler.fit_transform(pd.get_dummies(test_data_lr[[\"Zone1Position\", \"Zone2Position\", \"Zone3Position\", \"SKU\", \"Block_Num\", \n",
    "                                     \"Block_Position\",\"Zone3_Humidity_Avg\", \"Zone2_Humidity_Avg\", \"Zone1_Humidity_Avg\",\n",
    "                                     \"Zone3_Temp_Avg\",\"Zone2_Temp_Avg\", \"Zone1_Temp_Avg\", \"Zone1_Dur\", \"Zone2_Dur\", \n",
    "                                     \"Zone3_Dur\"]],drop_first=True))\n",
    "y_test_lr = test_data_lr[\"Result_binary\"]\n",
    "y_pred_lr = lr.predict(X_test_lr)\n",
    "print(classification_report(y_test_lr, y_pred_lr))"
   ]
  }
 ],
 "metadata": {
  "kernelspec": {
   "display_name": "Python 3",
   "language": "python",
   "name": "python3"
  },
  "language_info": {
   "codemirror_mode": {
    "name": "ipython",
    "version": 3
   },
   "file_extension": ".py",
   "mimetype": "text/x-python",
   "name": "python",
   "nbconvert_exporter": "python",
   "pygments_lexer": "ipython3",
   "version": "3.7.4"
  }
 },
 "nbformat": 4,
 "nbformat_minor": 2
}
