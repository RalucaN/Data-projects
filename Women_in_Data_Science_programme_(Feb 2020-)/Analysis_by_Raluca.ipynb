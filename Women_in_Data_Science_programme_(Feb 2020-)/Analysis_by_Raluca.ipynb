{
 "cells": [
  {
   "cell_type": "code",
   "execution_count": 22,
   "metadata": {},
   "outputs": [],
   "source": [
    "import pandas as pd\n",
    "import numpy as np\n",
    "from sklearn.model_selection import train_test_split\n",
    "from sklearn import tree\n",
    "from sklearn.ensemble import RandomForestClassifier\n",
    "from sklearn import preprocessing\n",
    "from sklearn.metrics import classification_report\n",
    "from sklearn import metrics\n",
    "from keras.models import Sequential\n",
    "from keras.layers import Dense\n",
    "from boruta import BorutaPy"
   ]
  },
  {
   "cell_type": "code",
   "execution_count": 2,
   "metadata": {},
   "outputs": [],
   "source": [
    "data = pd.read_csv(\"Data_processed.csv\")"
   ]
  },
  {
   "cell_type": "code",
   "execution_count": 3,
   "metadata": {},
   "outputs": [
    {
     "data": {
      "text/html": [
       "<div>\n",
       "<style scoped>\n",
       "    .dataframe tbody tr th:only-of-type {\n",
       "        vertical-align: middle;\n",
       "    }\n",
       "\n",
       "    .dataframe tbody tr th {\n",
       "        vertical-align: top;\n",
       "    }\n",
       "\n",
       "    .dataframe thead th {\n",
       "        text-align: right;\n",
       "    }\n",
       "</style>\n",
       "<table border=\"1\" class=\"dataframe\">\n",
       "  <thead>\n",
       "    <tr style=\"text-align: right;\">\n",
       "      <th></th>\n",
       "      <th>X</th>\n",
       "      <th>Date</th>\n",
       "      <th>Zone1Position</th>\n",
       "      <th>Zone2Position</th>\n",
       "      <th>Zone3Position</th>\n",
       "      <th>SKU</th>\n",
       "      <th>Zone1_Row_Num</th>\n",
       "      <th>Zone1_Col_Num</th>\n",
       "      <th>Zone2_Row_Num</th>\n",
       "      <th>Zone2_Col_num</th>\n",
       "      <th>...</th>\n",
       "      <th>Zone2_Humidity_Max</th>\n",
       "      <th>Zone2_Humidity_Range</th>\n",
       "      <th>Zone3_Humidity_Avg</th>\n",
       "      <th>Zone3_Humidity_Min</th>\n",
       "      <th>Zone3_Humidity_Max</th>\n",
       "      <th>Zone3_Humidity_Range</th>\n",
       "      <th>Block_Num</th>\n",
       "      <th>Block_Position</th>\n",
       "      <th>Block_Orientation</th>\n",
       "      <th>Result_Type</th>\n",
       "    </tr>\n",
       "  </thead>\n",
       "  <tbody>\n",
       "    <tr>\n",
       "      <td>0</td>\n",
       "      <td>1</td>\n",
       "      <td>09/01/2020</td>\n",
       "      <td>3.0</td>\n",
       "      <td>2.0</td>\n",
       "      <td>3.0</td>\n",
       "      <td>A001</td>\n",
       "      <td>1.0</td>\n",
       "      <td>3.0</td>\n",
       "      <td>1.0</td>\n",
       "      <td>2.0</td>\n",
       "      <td>...</td>\n",
       "      <td>61.80</td>\n",
       "      <td>10.0</td>\n",
       "      <td>39.19</td>\n",
       "      <td>33.19</td>\n",
       "      <td>45.19</td>\n",
       "      <td>12.0</td>\n",
       "      <td>1000.0</td>\n",
       "      <td>1.0</td>\n",
       "      <td>1</td>\n",
       "      <td>Defect_1</td>\n",
       "    </tr>\n",
       "    <tr>\n",
       "      <td>1</td>\n",
       "      <td>2</td>\n",
       "      <td>03/12/2019</td>\n",
       "      <td>8.0</td>\n",
       "      <td>4.0</td>\n",
       "      <td>3.0</td>\n",
       "      <td>A001</td>\n",
       "      <td>2.0</td>\n",
       "      <td>4.0</td>\n",
       "      <td>2.0</td>\n",
       "      <td>2.0</td>\n",
       "      <td>...</td>\n",
       "      <td>58.12</td>\n",
       "      <td>16.0</td>\n",
       "      <td>48.50</td>\n",
       "      <td>40.50</td>\n",
       "      <td>56.50</td>\n",
       "      <td>16.0</td>\n",
       "      <td>1003.0</td>\n",
       "      <td>1.0</td>\n",
       "      <td>1</td>\n",
       "      <td>Defect_1</td>\n",
       "    </tr>\n",
       "    <tr>\n",
       "      <td>2</td>\n",
       "      <td>3</td>\n",
       "      <td>21/11/2019</td>\n",
       "      <td>4.0</td>\n",
       "      <td>2.0</td>\n",
       "      <td>3.0</td>\n",
       "      <td>B003</td>\n",
       "      <td>1.0</td>\n",
       "      <td>4.0</td>\n",
       "      <td>1.0</td>\n",
       "      <td>2.0</td>\n",
       "      <td>...</td>\n",
       "      <td>50.97</td>\n",
       "      <td>10.0</td>\n",
       "      <td>52.20</td>\n",
       "      <td>46.20</td>\n",
       "      <td>58.20</td>\n",
       "      <td>12.0</td>\n",
       "      <td>1001.0</td>\n",
       "      <td>4.0</td>\n",
       "      <td>1</td>\n",
       "      <td>PASS</td>\n",
       "    </tr>\n",
       "    <tr>\n",
       "      <td>3</td>\n",
       "      <td>4</td>\n",
       "      <td>22/11/2019</td>\n",
       "      <td>6.0</td>\n",
       "      <td>3.0</td>\n",
       "      <td>1.0</td>\n",
       "      <td>B003</td>\n",
       "      <td>2.0</td>\n",
       "      <td>2.0</td>\n",
       "      <td>2.0</td>\n",
       "      <td>1.0</td>\n",
       "      <td>...</td>\n",
       "      <td>59.13</td>\n",
       "      <td>4.0</td>\n",
       "      <td>39.29</td>\n",
       "      <td>31.29</td>\n",
       "      <td>47.29</td>\n",
       "      <td>16.0</td>\n",
       "      <td>1003.0</td>\n",
       "      <td>2.0</td>\n",
       "      <td>1</td>\n",
       "      <td>PASS</td>\n",
       "    </tr>\n",
       "    <tr>\n",
       "      <td>4</td>\n",
       "      <td>5</td>\n",
       "      <td>23/12/2019</td>\n",
       "      <td>3.0</td>\n",
       "      <td>2.0</td>\n",
       "      <td>3.0</td>\n",
       "      <td>B003</td>\n",
       "      <td>1.0</td>\n",
       "      <td>3.0</td>\n",
       "      <td>1.0</td>\n",
       "      <td>2.0</td>\n",
       "      <td>...</td>\n",
       "      <td>65.80</td>\n",
       "      <td>18.0</td>\n",
       "      <td>45.37</td>\n",
       "      <td>42.37</td>\n",
       "      <td>48.37</td>\n",
       "      <td>6.0</td>\n",
       "      <td>1002.0</td>\n",
       "      <td>1.0</td>\n",
       "      <td>1</td>\n",
       "      <td>PASS</td>\n",
       "    </tr>\n",
       "  </tbody>\n",
       "</table>\n",
       "<p>5 rows × 53 columns</p>\n",
       "</div>"
      ],
      "text/plain": [
       "   X        Date  Zone1Position  Zone2Position  Zone3Position   SKU  \\\n",
       "0  1  09/01/2020            3.0            2.0            3.0  A001   \n",
       "1  2  03/12/2019            8.0            4.0            3.0  A001   \n",
       "2  3  21/11/2019            4.0            2.0            3.0  B003   \n",
       "3  4  22/11/2019            6.0            3.0            1.0  B003   \n",
       "4  5  23/12/2019            3.0            2.0            3.0  B003   \n",
       "\n",
       "   Zone1_Row_Num  Zone1_Col_Num  Zone2_Row_Num  Zone2_Col_num  ...  \\\n",
       "0            1.0            3.0            1.0            2.0  ...   \n",
       "1            2.0            4.0            2.0            2.0  ...   \n",
       "2            1.0            4.0            1.0            2.0  ...   \n",
       "3            2.0            2.0            2.0            1.0  ...   \n",
       "4            1.0            3.0            1.0            2.0  ...   \n",
       "\n",
       "   Zone2_Humidity_Max  Zone2_Humidity_Range  Zone3_Humidity_Avg  \\\n",
       "0               61.80                  10.0               39.19   \n",
       "1               58.12                  16.0               48.50   \n",
       "2               50.97                  10.0               52.20   \n",
       "3               59.13                   4.0               39.29   \n",
       "4               65.80                  18.0               45.37   \n",
       "\n",
       "   Zone3_Humidity_Min Zone3_Humidity_Max Zone3_Humidity_Range  Block_Num  \\\n",
       "0               33.19              45.19                 12.0     1000.0   \n",
       "1               40.50              56.50                 16.0     1003.0   \n",
       "2               46.20              58.20                 12.0     1001.0   \n",
       "3               31.29              47.29                 16.0     1003.0   \n",
       "4               42.37              48.37                  6.0     1002.0   \n",
       "\n",
       "   Block_Position  Block_Orientation  Result_Type  \n",
       "0             1.0                  1     Defect_1  \n",
       "1             1.0                  1     Defect_1  \n",
       "2             4.0                  1         PASS  \n",
       "3             2.0                  1         PASS  \n",
       "4             1.0                  1         PASS  \n",
       "\n",
       "[5 rows x 53 columns]"
      ]
     },
     "execution_count": 3,
     "metadata": {},
     "output_type": "execute_result"
    }
   ],
   "source": [
    "data[:5]"
   ]
  },
  {
   "cell_type": "code",
   "execution_count": 4,
   "metadata": {},
   "outputs": [
    {
     "data": {
      "text/plain": [
       "count     75750\n",
       "unique        2\n",
       "top           0\n",
       "freq      54720\n",
       "Name: Result_binary, dtype: object"
      ]
     },
     "execution_count": 4,
     "metadata": {},
     "output_type": "execute_result"
    }
   ],
   "source": [
    "data[\"Result_binary\"] = np.where(data['Result_Type']== \"PASS\", \n",
    "                                 '0', '1')\n",
    "data[\"Result_binary\"].describe()"
   ]
  },
  {
   "cell_type": "code",
   "execution_count": 44,
   "metadata": {},
   "outputs": [],
   "source": [
    "data_model=data[[\"Zone1Position\", \"Zone2Position\", \"Zone3Position\", \"SKU\", \"Block_Num\", \"Block_Position\", \n",
    "                \"Result_Type\", \"Zone3_Humidity_Avg\", \"Zone2_Humidity_Avg\", \"Zone1_Humidity_Avg\",\"Zone3_Temp_Avg\",\n",
    "               \"Zone2_Temp_Avg\", \"Zone1_Temp_Avg\", \"Zone1_Dur\", \"Zone2_Dur\", \"Zone3_Dur\"]]\n",
    "\n",
    "data_model2=data[[\"Zone1Position\", \"Zone2Position\", \"Zone3Position\", \"SKU\", \"Block_Num\", \"Block_Position\", \n",
    "                \"Result_Type\", \"Zone3_Humidity_Range\", \"Zone2_Humidity_Range\", \"Zone1_Humidity_Range\",\n",
    "                  \"Zone3_Temp_Range\",\"Zone2_Temp_Range\", \"Zone1_Temp_Range\", \"Zone1_Dur\", \"Zone2_Dur\", \"Zone3_Dur\"]]\n",
    "\n",
    "#the choice of features for data_model2 is based on the results of the multinomial regression models (see the R script)\n",
    "\n",
    "data_model3=data[[\"Result_Type\", \"Zone1Position\", \"Zone2Position\", \"SKU\", \"Block_Num\", \"Block_Position\", \"Zone1_Area\", \n",
    "                  \"Zone1_In_Zone3_Out_Dur\", \"Zone1_Col_Num\",\"Zone2_Col_num\", \"Zone3_Humidity_Max\",\n",
    "                  \"Zone3_Humidity_Min\", \"Zone3_Humidity_Avg\", \"Zone2_Humidity_Max\", \"Zone2_Temp_Max\"]]"
   ]
  },
  {
   "cell_type": "code",
   "execution_count": 45,
   "metadata": {},
   "outputs": [],
   "source": [
    "train, test = train_test_split(data_model3.dropna(), test_size = 0.2)"
   ]
  },
  {
   "cell_type": "markdown",
   "metadata": {},
   "source": [
    "1. Decision Tree"
   ]
  },
  {
   "cell_type": "code",
   "execution_count": 46,
   "metadata": {},
   "outputs": [
    {
     "data": {
      "text/html": [
       "<div>\n",
       "<style scoped>\n",
       "    .dataframe tbody tr th:only-of-type {\n",
       "        vertical-align: middle;\n",
       "    }\n",
       "\n",
       "    .dataframe tbody tr th {\n",
       "        vertical-align: top;\n",
       "    }\n",
       "\n",
       "    .dataframe thead th {\n",
       "        text-align: right;\n",
       "    }\n",
       "</style>\n",
       "<table border=\"1\" class=\"dataframe\">\n",
       "  <thead>\n",
       "    <tr style=\"text-align: right;\">\n",
       "      <th>Predicted</th>\n",
       "      <th>Defect_1</th>\n",
       "      <th>Defect_2</th>\n",
       "      <th>Defect_3</th>\n",
       "      <th>Defect_4</th>\n",
       "      <th>Defect_5</th>\n",
       "      <th>PASS</th>\n",
       "      <th>All</th>\n",
       "    </tr>\n",
       "    <tr>\n",
       "      <th>True</th>\n",
       "      <th></th>\n",
       "      <th></th>\n",
       "      <th></th>\n",
       "      <th></th>\n",
       "      <th></th>\n",
       "      <th></th>\n",
       "      <th></th>\n",
       "    </tr>\n",
       "  </thead>\n",
       "  <tbody>\n",
       "    <tr>\n",
       "      <td>Defect_1</td>\n",
       "      <td>272</td>\n",
       "      <td>4</td>\n",
       "      <td>24</td>\n",
       "      <td>27</td>\n",
       "      <td>24</td>\n",
       "      <td>425</td>\n",
       "      <td>776</td>\n",
       "    </tr>\n",
       "    <tr>\n",
       "      <td>Defect_2</td>\n",
       "      <td>8</td>\n",
       "      <td>671</td>\n",
       "      <td>0</td>\n",
       "      <td>5</td>\n",
       "      <td>6</td>\n",
       "      <td>141</td>\n",
       "      <td>831</td>\n",
       "    </tr>\n",
       "    <tr>\n",
       "      <td>Defect_3</td>\n",
       "      <td>48</td>\n",
       "      <td>1</td>\n",
       "      <td>1156</td>\n",
       "      <td>6</td>\n",
       "      <td>8</td>\n",
       "      <td>151</td>\n",
       "      <td>1370</td>\n",
       "    </tr>\n",
       "    <tr>\n",
       "      <td>Defect_4</td>\n",
       "      <td>23</td>\n",
       "      <td>13</td>\n",
       "      <td>7</td>\n",
       "      <td>52</td>\n",
       "      <td>36</td>\n",
       "      <td>521</td>\n",
       "      <td>652</td>\n",
       "    </tr>\n",
       "    <tr>\n",
       "      <td>Defect_5</td>\n",
       "      <td>24</td>\n",
       "      <td>3</td>\n",
       "      <td>11</td>\n",
       "      <td>17</td>\n",
       "      <td>44</td>\n",
       "      <td>445</td>\n",
       "      <td>544</td>\n",
       "    </tr>\n",
       "    <tr>\n",
       "      <td>PASS</td>\n",
       "      <td>468</td>\n",
       "      <td>127</td>\n",
       "      <td>186</td>\n",
       "      <td>618</td>\n",
       "      <td>579</td>\n",
       "      <td>8952</td>\n",
       "      <td>10930</td>\n",
       "    </tr>\n",
       "    <tr>\n",
       "      <td>All</td>\n",
       "      <td>843</td>\n",
       "      <td>819</td>\n",
       "      <td>1384</td>\n",
       "      <td>725</td>\n",
       "      <td>697</td>\n",
       "      <td>10635</td>\n",
       "      <td>15103</td>\n",
       "    </tr>\n",
       "  </tbody>\n",
       "</table>\n",
       "</div>"
      ],
      "text/plain": [
       "Predicted  Defect_1  Defect_2  Defect_3  Defect_4  Defect_5   PASS    All\n",
       "True                                                                     \n",
       "Defect_1        272         4        24        27        24    425    776\n",
       "Defect_2          8       671         0         5         6    141    831\n",
       "Defect_3         48         1      1156         6         8    151   1370\n",
       "Defect_4         23        13         7        52        36    521    652\n",
       "Defect_5         24         3        11        17        44    445    544\n",
       "PASS            468       127       186       618       579   8952  10930\n",
       "All             843       819      1384       725       697  10635  15103"
      ]
     },
     "execution_count": 46,
     "metadata": {},
     "output_type": "execute_result"
    }
   ],
   "source": [
    "dt = tree.DecisionTreeClassifier(criterion='entropy')\n",
    "x_train = pd.get_dummies(train[[\"Zone1Position\", \"Zone2Position\", \"SKU\", \"Block_Num\", \"Block_Position\", \"Zone1_Area\",\n",
    "                  \"Zone1_In_Zone3_Out_Dur\", \"Zone1_Col_Num\",\"Zone2_Col_num\", \"Zone3_Humidity_Max\", \n",
    "                  \"Zone3_Humidity_Min\", \"Zone3_Humidity_Avg\", \"Zone2_Humidity_Max\", \"Zone2_Temp_Max\"]], \n",
    "                         drop_first=True)\n",
    "y_train = train[\"Result_Type\"]\n",
    "dt = dt.fit(x_train, y_train)\n",
    "x_test = pd.get_dummies(test[[\"Zone1Position\", \"Zone2Position\", \"SKU\", \"Block_Num\", \"Block_Position\", \"Zone1_Area\",\n",
    "                  \"Zone1_In_Zone3_Out_Dur\", \"Zone1_Col_Num\",\"Zone2_Col_num\", \"Zone3_Humidity_Max\", \n",
    "                  \"Zone3_Humidity_Min\", \"Zone3_Humidity_Avg\", \"Zone2_Humidity_Max\", \"Zone2_Temp_Max\"]], \n",
    "                        drop_first=True)\n",
    "y_test = test[\"Result_Type\"]\n",
    "y_pred = dt.predict(x_test)\n",
    "pd.crosstab(y_test, y_pred, rownames=['True'], colnames=['Predicted'], margins=True)"
   ]
  },
  {
   "cell_type": "code",
   "execution_count": 20,
   "metadata": {},
   "outputs": [
    {
     "name": "stdout",
     "output_type": "stream",
     "text": [
      "              precision    recall  f1-score   support\n",
      "\n",
      "    Defect_1       0.34      0.37      0.35       807\n",
      "    Defect_2       0.75      0.81      0.78       772\n",
      "    Defect_3       0.82      0.85      0.83      1317\n",
      "    Defect_4       0.08      0.08      0.08       665\n",
      "    Defect_5       0.06      0.07      0.07       613\n",
      "        PASS       0.84      0.81      0.82     10929\n",
      "\n",
      "    accuracy                           0.73     15103\n",
      "   macro avg       0.48      0.50      0.49     15103\n",
      "weighted avg       0.74      0.73      0.73     15103\n",
      "\n"
     ]
    }
   ],
   "source": [
    "print(classification_report(y_test, y_pred))"
   ]
  },
  {
   "cell_type": "code",
   "execution_count": 48,
   "metadata": {},
   "outputs": [],
   "source": [
    "clf=RandomForestClassifier(n_estimators=100)\n",
    "clf.fit(x_train,y_train)\n",
    "\n",
    "y_pred=clf.predict(x_test)"
   ]
  },
  {
   "cell_type": "code",
   "execution_count": 49,
   "metadata": {},
   "outputs": [
    {
     "name": "stdout",
     "output_type": "stream",
     "text": [
      "Accuracy: 0.8500960074157452\n"
     ]
    }
   ],
   "source": [
    "print(\"Accuracy:\",metrics.accuracy_score(y_test, y_pred))"
   ]
  },
  {
   "cell_type": "code",
   "execution_count": 50,
   "metadata": {},
   "outputs": [
    {
     "name": "stdout",
     "output_type": "stream",
     "text": [
      "              precision    recall  f1-score   support\n",
      "\n",
      "    Defect_1       0.46      0.23      0.31       776\n",
      "    Defect_2       0.96      0.86      0.91       831\n",
      "    Defect_3       0.93      0.93      0.93      1370\n",
      "    Defect_4       0.92      0.02      0.03       652\n",
      "    Defect_5       0.91      0.02      0.04       544\n",
      "        PASS       0.85      0.97      0.91     10930\n",
      "\n",
      "    accuracy                           0.85     15103\n",
      "   macro avg       0.84      0.51      0.52     15103\n",
      "weighted avg       0.85      0.85      0.81     15103\n",
      "\n"
     ]
    }
   ],
   "source": [
    "print(classification_report(y_test, y_pred))"
   ]
  },
  {
   "cell_type": "code",
   "execution_count": 64,
   "metadata": {},
   "outputs": [
    {
     "data": {
      "text/plain": [
       "array([0.04320176, 0.04273265, 0.08412487, 0.06831236, 0.19312848,\n",
       "       0.02120965, 0.01049976, 0.08816993, 0.0817535 , 0.06452484,\n",
       "       0.09587279, 0.09243264, 0.01100791, 0.04824784, 0.00928548,\n",
       "       0.01176271, 0.00247021, 0.02872942, 0.00253322])"
      ]
     },
     "execution_count": 64,
     "metadata": {},
     "output_type": "execute_result"
    }
   ],
   "source": [
    "importances = clf.feature_importances_\n",
    "importances"
   ]
  },
  {
   "cell_type": "code",
   "execution_count": 53,
   "metadata": {},
   "outputs": [],
   "source": [
    "from treeinterpreter import treeinterpreter as ti\n",
    "prediction, bias, contributions = ti.predict(clf, x_test)\n",
    "\n"
   ]
  },
  {
   "cell_type": "code",
   "execution_count": null,
   "metadata": {},
   "outputs": [],
   "source": []
  },
  {
   "cell_type": "markdown",
   "metadata": {},
   "source": [
    "<b> 2. Neural network </b> "
   ]
  },
  {
   "cell_type": "code",
   "execution_count": 12,
   "metadata": {},
   "outputs": [
    {
     "data": {
      "text/plain": [
       "array([[0.42857143, 0.33333333, 0.2       , ..., 1.        , 0.        ,\n",
       "        0.        ],\n",
       "       [0.        , 0.        , 0.        , ..., 0.        , 0.        ,\n",
       "        0.        ],\n",
       "       [0.28571429, 0.33333333, 0.2       , ..., 1.        , 0.        ,\n",
       "        0.        ],\n",
       "       ...,\n",
       "       [0.14285714, 0.        , 0.2       , ..., 1.        , 0.        ,\n",
       "        0.        ],\n",
       "       [1.        , 1.        , 0.4       , ..., 1.        , 0.        ,\n",
       "        0.        ],\n",
       "       [0.28571429, 0.33333333, 1.        , ..., 0.        , 0.        ,\n",
       "        0.        ]])"
      ]
     },
     "execution_count": 12,
     "metadata": {},
     "output_type": "execute_result"
    }
   ],
   "source": [
    "min_max_scaler = preprocessing.MinMaxScaler()\n",
    "x_train_scale = min_max_scaler.fit_transform(x_train)\n",
    "x_test_scale = min_max_scaler.fit_transform(x_test)\n",
    "x_train_scale"
   ]
  },
  {
   "cell_type": "code",
   "execution_count": null,
   "metadata": {},
   "outputs": [],
   "source": []
  },
  {
   "cell_type": "markdown",
   "metadata": {},
   "source": [
    "2. Logistic regression"
   ]
  },
  {
   "cell_type": "code",
   "execution_count": 51,
   "metadata": {},
   "outputs": [],
   "source": [
    "data_model_logit=data[[\"Zone1Position\", \"Zone2Position\", \"Zone3Position\", \"SKU\", \"Block_Num\", \"Block_Position\",\n",
    "                       \"Result_binary\", \"Zone3_Humidity_Avg\", \"Zone2_Humidity_Avg\", \"Zone1_Humidity_Avg\",\n",
    "                       \"Zone3_Temp_Avg\",\"Zone2_Temp_Avg\", \"Zone1_Temp_Avg\", \"Zone1_Dur\", \"Zone2_Dur\", \"Zone3_Dur\"]]"
   ]
  },
  {
   "cell_type": "code",
   "execution_count": null,
   "metadata": {},
   "outputs": [],
   "source": [
    "from sklearn.preprocessing import StandardScaler\n",
    "train_data_lr, test_data_lr = train_test_split(data_model_logit, test_size = 0.2)\n",
    "scaler = StandardScaler()\n",
    "x_train_lr = scaler.fit_transform(pd.get_dummies(train_data_lr[[\"Zone1Position\", \"Zone2Position\", \"Zone3Position\", \"SKU\", \"Block_Num\", \n",
    "                                     \"Block_Position\",\"Zone3_Humidity_Avg\", \"Zone2_Humidity_Avg\", \"Zone1_Humidity_Avg\",\n",
    "                                     \"Zone3_Temp_Avg\",\"Zone2_Temp_Avg\", \"Zone1_Temp_Avg\", \"Zone1_Dur\", \"Zone2_Dur\", \n",
    "                                     \"Zone3_Dur\"]],drop_first=True))\n",
    "                           \n",
    "y_train_lr = train_data_lr[\"Result_binary\"]\n",
    "lr = LogisticRegression(random_state=0).fit(x_train_lr, y_train_lr)\n",
    "x_test_lr = scaler.fit_transform(pd.get_dummies(test_data_lr[[\"Zone1Position\", \"Zone2Position\", \"Zone3Position\", \"SKU\", \"Block_Num\", \n",
    "                                     \"Block_Position\",\"Zone3_Humidity_Avg\", \"Zone2_Humidity_Avg\", \"Zone1_Humidity_Avg\",\n",
    "                                     \"Zone3_Temp_Avg\",\"Zone2_Temp_Avg\", \"Zone1_Temp_Avg\", \"Zone1_Dur\", \"Zone2_Dur\", \n",
    "                                     \"Zone3_Dur\"]],drop_first=True))\n",
    "y_test_lr = test_data_lr[\"Result_binary\"]\n",
    "y_pred_lr = lr.predict(X_test_lr)\n",
    "print(classification_report(y_test_lr, y_pred_lr))"
   ]
  }
 ],
 "metadata": {
  "kernelspec": {
   "display_name": "Python 3",
   "language": "python",
   "name": "python3"
  },
  "language_info": {
   "codemirror_mode": {
    "name": "ipython",
    "version": 3
   },
   "file_extension": ".py",
   "mimetype": "text/x-python",
   "name": "python",
   "nbconvert_exporter": "python",
   "pygments_lexer": "ipython3",
   "version": "3.7.4"
  }
 },
 "nbformat": 4,
 "nbformat_minor": 2
}
