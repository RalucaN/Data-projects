{
 "cells": [
  {
   "cell_type": "code",
   "execution_count": 49,
   "metadata": {},
   "outputs": [],
   "source": [
    "import pandas as pd\n",
    "import numpy as np\n",
    "from sklearn.model_selection import train_test_split\n",
    "from sklearn import tree\n",
    "from sklearn import preprocessing\n",
    "from sklearn.linear_model import LogisticRegression\n",
    "import mord"
   ]
  },
  {
   "cell_type": "code",
   "execution_count": 2,
   "metadata": {},
   "outputs": [],
   "source": [
    "data = pd.read_csv(\"Data_processed.csv\")"
   ]
  },
  {
   "cell_type": "code",
   "execution_count": 5,
   "metadata": {},
   "outputs": [
    {
     "data": {
      "text/html": [
       "<div>\n",
       "<style scoped>\n",
       "    .dataframe tbody tr th:only-of-type {\n",
       "        vertical-align: middle;\n",
       "    }\n",
       "\n",
       "    .dataframe tbody tr th {\n",
       "        vertical-align: top;\n",
       "    }\n",
       "\n",
       "    .dataframe thead th {\n",
       "        text-align: right;\n",
       "    }\n",
       "</style>\n",
       "<table border=\"1\" class=\"dataframe\">\n",
       "  <thead>\n",
       "    <tr style=\"text-align: right;\">\n",
       "      <th></th>\n",
       "      <th>X</th>\n",
       "      <th>Date</th>\n",
       "      <th>Zone1Position</th>\n",
       "      <th>Zone2Position</th>\n",
       "      <th>Zone3Position</th>\n",
       "      <th>SKU</th>\n",
       "      <th>Zone1_Row_Num</th>\n",
       "      <th>Zone1_Col_Num</th>\n",
       "      <th>Zone2_Row_Num</th>\n",
       "      <th>Zone2_Col_num</th>\n",
       "      <th>...</th>\n",
       "      <th>Zone2_Humidity_Range</th>\n",
       "      <th>Zone3_Humidity_Avg</th>\n",
       "      <th>Zone3_Humidity_Min</th>\n",
       "      <th>Zone3_Humidity_Max</th>\n",
       "      <th>Zone3_Humidity_Range</th>\n",
       "      <th>Block_Num</th>\n",
       "      <th>Block_Position</th>\n",
       "      <th>Block_Orientation</th>\n",
       "      <th>Result_Type</th>\n",
       "      <th>Result_binary</th>\n",
       "    </tr>\n",
       "  </thead>\n",
       "  <tbody>\n",
       "    <tr>\n",
       "      <td>0</td>\n",
       "      <td>1</td>\n",
       "      <td>09/01/2020</td>\n",
       "      <td>3.0</td>\n",
       "      <td>2.0</td>\n",
       "      <td>3.0</td>\n",
       "      <td>A001</td>\n",
       "      <td>1.0</td>\n",
       "      <td>3.0</td>\n",
       "      <td>1.0</td>\n",
       "      <td>2.0</td>\n",
       "      <td>...</td>\n",
       "      <td>10.0</td>\n",
       "      <td>39.19</td>\n",
       "      <td>33.19</td>\n",
       "      <td>45.19</td>\n",
       "      <td>12.0</td>\n",
       "      <td>1000.0</td>\n",
       "      <td>1.0</td>\n",
       "      <td>1</td>\n",
       "      <td>Defect_1</td>\n",
       "      <td>1</td>\n",
       "    </tr>\n",
       "    <tr>\n",
       "      <td>1</td>\n",
       "      <td>2</td>\n",
       "      <td>03/12/2019</td>\n",
       "      <td>8.0</td>\n",
       "      <td>4.0</td>\n",
       "      <td>3.0</td>\n",
       "      <td>A001</td>\n",
       "      <td>2.0</td>\n",
       "      <td>4.0</td>\n",
       "      <td>2.0</td>\n",
       "      <td>2.0</td>\n",
       "      <td>...</td>\n",
       "      <td>16.0</td>\n",
       "      <td>48.50</td>\n",
       "      <td>40.50</td>\n",
       "      <td>56.50</td>\n",
       "      <td>16.0</td>\n",
       "      <td>1003.0</td>\n",
       "      <td>1.0</td>\n",
       "      <td>1</td>\n",
       "      <td>Defect_1</td>\n",
       "      <td>1</td>\n",
       "    </tr>\n",
       "    <tr>\n",
       "      <td>2</td>\n",
       "      <td>3</td>\n",
       "      <td>21/11/2019</td>\n",
       "      <td>4.0</td>\n",
       "      <td>2.0</td>\n",
       "      <td>3.0</td>\n",
       "      <td>B003</td>\n",
       "      <td>1.0</td>\n",
       "      <td>4.0</td>\n",
       "      <td>1.0</td>\n",
       "      <td>2.0</td>\n",
       "      <td>...</td>\n",
       "      <td>10.0</td>\n",
       "      <td>52.20</td>\n",
       "      <td>46.20</td>\n",
       "      <td>58.20</td>\n",
       "      <td>12.0</td>\n",
       "      <td>1001.0</td>\n",
       "      <td>4.0</td>\n",
       "      <td>1</td>\n",
       "      <td>PASS</td>\n",
       "      <td>0</td>\n",
       "    </tr>\n",
       "    <tr>\n",
       "      <td>3</td>\n",
       "      <td>4</td>\n",
       "      <td>22/11/2019</td>\n",
       "      <td>6.0</td>\n",
       "      <td>3.0</td>\n",
       "      <td>1.0</td>\n",
       "      <td>B003</td>\n",
       "      <td>2.0</td>\n",
       "      <td>2.0</td>\n",
       "      <td>2.0</td>\n",
       "      <td>1.0</td>\n",
       "      <td>...</td>\n",
       "      <td>4.0</td>\n",
       "      <td>39.29</td>\n",
       "      <td>31.29</td>\n",
       "      <td>47.29</td>\n",
       "      <td>16.0</td>\n",
       "      <td>1003.0</td>\n",
       "      <td>2.0</td>\n",
       "      <td>1</td>\n",
       "      <td>PASS</td>\n",
       "      <td>0</td>\n",
       "    </tr>\n",
       "    <tr>\n",
       "      <td>4</td>\n",
       "      <td>5</td>\n",
       "      <td>23/12/2019</td>\n",
       "      <td>3.0</td>\n",
       "      <td>2.0</td>\n",
       "      <td>3.0</td>\n",
       "      <td>B003</td>\n",
       "      <td>1.0</td>\n",
       "      <td>3.0</td>\n",
       "      <td>1.0</td>\n",
       "      <td>2.0</td>\n",
       "      <td>...</td>\n",
       "      <td>18.0</td>\n",
       "      <td>45.37</td>\n",
       "      <td>42.37</td>\n",
       "      <td>48.37</td>\n",
       "      <td>6.0</td>\n",
       "      <td>1002.0</td>\n",
       "      <td>1.0</td>\n",
       "      <td>1</td>\n",
       "      <td>PASS</td>\n",
       "      <td>0</td>\n",
       "    </tr>\n",
       "  </tbody>\n",
       "</table>\n",
       "<p>5 rows × 54 columns</p>\n",
       "</div>"
      ],
      "text/plain": [
       "   X        Date  Zone1Position  Zone2Position  Zone3Position   SKU  \\\n",
       "0  1  09/01/2020            3.0            2.0            3.0  A001   \n",
       "1  2  03/12/2019            8.0            4.0            3.0  A001   \n",
       "2  3  21/11/2019            4.0            2.0            3.0  B003   \n",
       "3  4  22/11/2019            6.0            3.0            1.0  B003   \n",
       "4  5  23/12/2019            3.0            2.0            3.0  B003   \n",
       "\n",
       "   Zone1_Row_Num  Zone1_Col_Num  Zone2_Row_Num  Zone2_Col_num  ...  \\\n",
       "0            1.0            3.0            1.0            2.0  ...   \n",
       "1            2.0            4.0            2.0            2.0  ...   \n",
       "2            1.0            4.0            1.0            2.0  ...   \n",
       "3            2.0            2.0            2.0            1.0  ...   \n",
       "4            1.0            3.0            1.0            2.0  ...   \n",
       "\n",
       "   Zone2_Humidity_Range  Zone3_Humidity_Avg  Zone3_Humidity_Min  \\\n",
       "0                  10.0               39.19               33.19   \n",
       "1                  16.0               48.50               40.50   \n",
       "2                  10.0               52.20               46.20   \n",
       "3                   4.0               39.29               31.29   \n",
       "4                  18.0               45.37               42.37   \n",
       "\n",
       "   Zone3_Humidity_Max Zone3_Humidity_Range Block_Num  Block_Position  \\\n",
       "0               45.19                 12.0    1000.0             1.0   \n",
       "1               56.50                 16.0    1003.0             1.0   \n",
       "2               58.20                 12.0    1001.0             4.0   \n",
       "3               47.29                 16.0    1003.0             2.0   \n",
       "4               48.37                  6.0    1002.0             1.0   \n",
       "\n",
       "   Block_Orientation  Result_Type  Result_binary  \n",
       "0                  1     Defect_1              1  \n",
       "1                  1     Defect_1              1  \n",
       "2                  1         PASS              0  \n",
       "3                  1         PASS              0  \n",
       "4                  1         PASS              0  \n",
       "\n",
       "[5 rows x 54 columns]"
      ]
     },
     "execution_count": 5,
     "metadata": {},
     "output_type": "execute_result"
    }
   ],
   "source": [
    "data[:5]"
   ]
  },
  {
   "cell_type": "code",
   "execution_count": 4,
   "metadata": {},
   "outputs": [
    {
     "data": {
      "text/plain": [
       "count     75750\n",
       "unique        2\n",
       "top           0\n",
       "freq      54720\n",
       "Name: Result_binary, dtype: object"
      ]
     },
     "execution_count": 4,
     "metadata": {},
     "output_type": "execute_result"
    }
   ],
   "source": [
    "data[\"Result_binary\"] = np.where(data['Result_Type']== \"PASS\", \n",
    "                                 '0', '1')\n",
    "data[\"Result_binary\"].describe()"
   ]
  },
  {
   "cell_type": "code",
   "execution_count": 11,
   "metadata": {},
   "outputs": [],
   "source": [
    "data_model=data[[\"Zone1Position\", \"Zone2Position\", \"Zone3Position\", \"SKU\", \"Block_Num\", \"Block_Position\", \n",
    "                \"Result_Type\", \"Zone3_Humidity_Avg\", \"Zone2_Humidity_Avg\", \"Zone1_Humidity_Avg\",\"Zone3_Temp_Avg\",\n",
    "               \"Zone2_Temp_Avg\", \"Zone1_Temp_Avg\", \"Zone1_Dur\", \"Zone2_Dur\", \"Zone3_Dur\"]]"
   ]
  },
  {
   "cell_type": "code",
   "execution_count": 12,
   "metadata": {},
   "outputs": [
    {
     "name": "stdout",
     "output_type": "stream",
     "text": [
      "<class 'pandas.core.frame.DataFrame'>\n",
      "RangeIndex: 75750 entries, 0 to 75749\n",
      "Data columns (total 16 columns):\n",
      "Zone1Position         75750 non-null float64\n",
      "Zone2Position         75750 non-null float64\n",
      "Zone3Position         75750 non-null float64\n",
      "SKU                   75711 non-null object\n",
      "Block_Num             75708 non-null float64\n",
      "Block_Position        75711 non-null float64\n",
      "Result_Type           75750 non-null object\n",
      "Zone3_Humidity_Avg    75710 non-null float64\n",
      "Zone2_Humidity_Avg    75715 non-null float64\n",
      "Zone1_Humidity_Avg    75716 non-null float64\n",
      "Zone3_Temp_Avg        75707 non-null float64\n",
      "Zone2_Temp_Avg        75699 non-null float64\n",
      "Zone1_Temp_Avg        75698 non-null float64\n",
      "Zone1_Dur             75713 non-null float64\n",
      "Zone2_Dur             75708 non-null float64\n",
      "Zone3_Dur             75703 non-null float64\n",
      "dtypes: float64(14), object(2)\n",
      "memory usage: 9.2+ MB\n"
     ]
    }
   ],
   "source": [
    "data_model.info(verbose=True)"
   ]
  },
  {
   "cell_type": "code",
   "execution_count": 23,
   "metadata": {},
   "outputs": [],
   "source": [
    "train_data, test_data = train_test_split(data_model.dropna(), test_size = 0.2)"
   ]
  },
  {
   "cell_type": "code",
   "execution_count": 41,
   "metadata": {},
   "outputs": [],
   "source": [
    "feature_cols = [\"Zone1Position\", \"Zone2Position\", \"Zone3Position\", \"SKU\", \"Block_Num\",\"Block_Position\",\n",
    "                \"Zone3_Humidity_Avg\",\"Zone2_Humidity_Avg\", \"Zone1_Humidity_Avg\",\"Zone3_Temp_Avg\",\"Zone2_Temp_Avg\", \n",
    "                \"Zone1_Temp_Avg\", \"Zone1_Dur\",\"Zone2_Dur\", \"Zone3_Dur\"]"
   ]
  },
  {
   "cell_type": "markdown",
   "metadata": {},
   "source": [
    "1. Decision Tree"
   ]
  },
  {
   "cell_type": "code",
   "execution_count": 44,
   "metadata": {},
   "outputs": [
    {
     "data": {
      "text/html": [
       "<div>\n",
       "<style scoped>\n",
       "    .dataframe tbody tr th:only-of-type {\n",
       "        vertical-align: middle;\n",
       "    }\n",
       "\n",
       "    .dataframe tbody tr th {\n",
       "        vertical-align: top;\n",
       "    }\n",
       "\n",
       "    .dataframe thead th {\n",
       "        text-align: right;\n",
       "    }\n",
       "</style>\n",
       "<table border=\"1\" class=\"dataframe\">\n",
       "  <thead>\n",
       "    <tr style=\"text-align: right;\">\n",
       "      <th>Predicted</th>\n",
       "      <th>Defect_1</th>\n",
       "      <th>Defect_2</th>\n",
       "      <th>Defect_3</th>\n",
       "      <th>Defect_4</th>\n",
       "      <th>Defect_5</th>\n",
       "      <th>PASS</th>\n",
       "      <th>All</th>\n",
       "    </tr>\n",
       "    <tr>\n",
       "      <th>True</th>\n",
       "      <th></th>\n",
       "      <th></th>\n",
       "      <th></th>\n",
       "      <th></th>\n",
       "      <th></th>\n",
       "      <th></th>\n",
       "      <th></th>\n",
       "    </tr>\n",
       "  </thead>\n",
       "  <tbody>\n",
       "    <tr>\n",
       "      <td>Defect_1</td>\n",
       "      <td>233</td>\n",
       "      <td>10</td>\n",
       "      <td>41</td>\n",
       "      <td>31</td>\n",
       "      <td>38</td>\n",
       "      <td>446</td>\n",
       "      <td>799</td>\n",
       "    </tr>\n",
       "    <tr>\n",
       "      <td>Defect_2</td>\n",
       "      <td>5</td>\n",
       "      <td>639</td>\n",
       "      <td>5</td>\n",
       "      <td>7</td>\n",
       "      <td>5</td>\n",
       "      <td>117</td>\n",
       "      <td>778</td>\n",
       "    </tr>\n",
       "    <tr>\n",
       "      <td>Defect_3</td>\n",
       "      <td>53</td>\n",
       "      <td>8</td>\n",
       "      <td>499</td>\n",
       "      <td>48</td>\n",
       "      <td>50</td>\n",
       "      <td>702</td>\n",
       "      <td>1360</td>\n",
       "    </tr>\n",
       "    <tr>\n",
       "      <td>Defect_4</td>\n",
       "      <td>31</td>\n",
       "      <td>3</td>\n",
       "      <td>45</td>\n",
       "      <td>47</td>\n",
       "      <td>29</td>\n",
       "      <td>478</td>\n",
       "      <td>633</td>\n",
       "    </tr>\n",
       "    <tr>\n",
       "      <td>Defect_5</td>\n",
       "      <td>24</td>\n",
       "      <td>5</td>\n",
       "      <td>34</td>\n",
       "      <td>29</td>\n",
       "      <td>54</td>\n",
       "      <td>445</td>\n",
       "      <td>591</td>\n",
       "    </tr>\n",
       "    <tr>\n",
       "      <td>PASS</td>\n",
       "      <td>515</td>\n",
       "      <td>119</td>\n",
       "      <td>771</td>\n",
       "      <td>619</td>\n",
       "      <td>597</td>\n",
       "      <td>8268</td>\n",
       "      <td>10889</td>\n",
       "    </tr>\n",
       "    <tr>\n",
       "      <td>All</td>\n",
       "      <td>861</td>\n",
       "      <td>784</td>\n",
       "      <td>1395</td>\n",
       "      <td>781</td>\n",
       "      <td>773</td>\n",
       "      <td>10456</td>\n",
       "      <td>15050</td>\n",
       "    </tr>\n",
       "  </tbody>\n",
       "</table>\n",
       "</div>"
      ],
      "text/plain": [
       "Predicted  Defect_1  Defect_2  Defect_3  Defect_4  Defect_5   PASS    All\n",
       "True                                                                     \n",
       "Defect_1        233        10        41        31        38    446    799\n",
       "Defect_2          5       639         5         7         5    117    778\n",
       "Defect_3         53         8       499        48        50    702   1360\n",
       "Defect_4         31         3        45        47        29    478    633\n",
       "Defect_5         24         5        34        29        54    445    591\n",
       "PASS            515       119       771       619       597   8268  10889\n",
       "All             861       784      1395       781       773  10456  15050"
      ]
     },
     "execution_count": 44,
     "metadata": {},
     "output_type": "execute_result"
    }
   ],
   "source": [
    "dt = tree.DecisionTreeClassifier()\n",
    "x_train = pd.get_dummies(train_data[[\"Zone1Position\", \"Zone2Position\", \"Zone3Position\", \"SKU\", \"Block_Num\", \n",
    "                                     \"Block_Position\",\"Zone3_Humidity_Avg\", \"Zone2_Humidity_Avg\", \"Zone1_Humidity_Avg\",\n",
    "                                     \"Zone3_Temp_Avg\",\"Zone2_Temp_Avg\", \"Zone1_Temp_Avg\", \"Zone1_Dur\", \"Zone2_Dur\", \n",
    "                                     \"Zone3_Dur\"]],drop_first=True)\n",
    "y_train = train_data[\"Result_Type\"]\n",
    "dt = dt.fit(x_train, y_train)\n",
    "x_test = pd.get_dummies(test_data[[\"Zone1Position\", \"Zone2Position\", \"Zone3Position\", \"SKU\", \"Block_Num\", \n",
    "                                     \"Block_Position\",\"Zone3_Humidity_Avg\", \"Zone2_Humidity_Avg\", \"Zone1_Humidity_Avg\",\n",
    "                                     \"Zone3_Temp_Avg\",\"Zone2_Temp_Avg\", \"Zone1_Temp_Avg\", \"Zone1_Dur\", \"Zone2_Dur\", \n",
    "                                     \"Zone3_Dur\"]],drop_first=True)\n",
    "y_test = test_data[\"Result_Type\"]\n",
    "y_pred = dt.predict(x_test)\n",
    "pd.crosstab(y_test, y_pred, rownames=['True'], colnames=['Predicted'], margins=True)"
   ]
  },
  {
   "cell_type": "code",
   "execution_count": 46,
   "metadata": {},
   "outputs": [
    {
     "name": "stdout",
     "output_type": "stream",
     "text": [
      "              precision    recall  f1-score   support\n",
      "\n",
      "    Defect_1       0.27      0.29      0.28       799\n",
      "    Defect_2       0.82      0.82      0.82       778\n",
      "    Defect_3       0.36      0.37      0.36      1360\n",
      "    Defect_4       0.06      0.07      0.07       633\n",
      "    Defect_5       0.07      0.09      0.08       591\n",
      "        PASS       0.79      0.76      0.77     10889\n",
      "\n",
      "    accuracy                           0.65     15050\n",
      "   macro avg       0.39      0.40      0.40     15050\n",
      "weighted avg       0.67      0.65      0.66     15050\n",
      "\n"
     ]
    }
   ],
   "source": [
    "print(classification_report(y_test, y_pred))"
   ]
  },
  {
   "cell_type": "markdown",
   "metadata": {},
   "source": [
    "2. Logistic regression"
   ]
  },
  {
   "cell_type": "code",
   "execution_count": 51,
   "metadata": {},
   "outputs": [],
   "source": [
    "data_model_logit=data[[\"Zone1Position\", \"Zone2Position\", \"Zone3Position\", \"SKU\", \"Block_Num\", \"Block_Position\",\n",
    "                       \"Result_binary\", \"Zone3_Humidity_Avg\", \"Zone2_Humidity_Avg\", \"Zone1_Humidity_Avg\",\n",
    "                       \"Zone3_Temp_Avg\",\"Zone2_Temp_Avg\", \"Zone1_Temp_Avg\", \"Zone1_Dur\", \"Zone2_Dur\", \"Zone3_Dur\"]]"
   ]
  },
  {
   "cell_type": "code",
   "execution_count": 62,
   "metadata": {},
   "outputs": [
    {
     "name": "stderr",
     "output_type": "stream",
     "text": [
      "C:\\Users\\Raluca\\Anaconda3\\lib\\site-packages\\sklearn\\linear_model\\logistic.py:432: FutureWarning: Default solver will be changed to 'lbfgs' in 0.22. Specify a solver to silence this warning.\n",
      "  FutureWarning)\n"
     ]
    },
    {
     "ename": "ValueError",
     "evalue": "Input contains NaN, infinity or a value too large for dtype('float64').",
     "output_type": "error",
     "traceback": [
      "\u001b[1;31m---------------------------------------------------------------------------\u001b[0m",
      "\u001b[1;31mValueError\u001b[0m                                Traceback (most recent call last)",
      "\u001b[1;32m<ipython-input-62-b86059bd6b12>\u001b[0m in \u001b[0;36m<module>\u001b[1;34m\u001b[0m\n\u001b[0;32m      8\u001b[0m \u001b[1;33m\u001b[0m\u001b[0m\n\u001b[0;32m      9\u001b[0m \u001b[0my_train_lr\u001b[0m \u001b[1;33m=\u001b[0m \u001b[0mtrain_data_lr\u001b[0m\u001b[1;33m[\u001b[0m\u001b[1;34m\"Result_binary\"\u001b[0m\u001b[1;33m]\u001b[0m\u001b[1;33m\u001b[0m\u001b[1;33m\u001b[0m\u001b[0m\n\u001b[1;32m---> 10\u001b[1;33m \u001b[0mlr\u001b[0m \u001b[1;33m=\u001b[0m \u001b[0mLogisticRegression\u001b[0m\u001b[1;33m(\u001b[0m\u001b[0mrandom_state\u001b[0m\u001b[1;33m=\u001b[0m\u001b[1;36m0\u001b[0m\u001b[1;33m)\u001b[0m\u001b[1;33m.\u001b[0m\u001b[0mfit\u001b[0m\u001b[1;33m(\u001b[0m\u001b[0mx_train_lr\u001b[0m\u001b[1;33m,\u001b[0m \u001b[0my_train_lr\u001b[0m\u001b[1;33m)\u001b[0m\u001b[1;33m\u001b[0m\u001b[1;33m\u001b[0m\u001b[0m\n\u001b[0m\u001b[0;32m     11\u001b[0m x_test_lr = scaler.fit_transform(pd.get_dummies(test_data_lr[[\"Zone1Position\", \"Zone2Position\", \"Zone3Position\", \"SKU\", \"Block_Num\", \n\u001b[0;32m     12\u001b[0m                                      \u001b[1;34m\"Block_Position\"\u001b[0m\u001b[1;33m,\u001b[0m\u001b[1;34m\"Zone3_Humidity_Avg\"\u001b[0m\u001b[1;33m,\u001b[0m \u001b[1;34m\"Zone2_Humidity_Avg\"\u001b[0m\u001b[1;33m,\u001b[0m \u001b[1;34m\"Zone1_Humidity_Avg\"\u001b[0m\u001b[1;33m,\u001b[0m\u001b[1;33m\u001b[0m\u001b[1;33m\u001b[0m\u001b[0m\n",
      "\u001b[1;32m~\\Anaconda3\\lib\\site-packages\\sklearn\\linear_model\\logistic.py\u001b[0m in \u001b[0;36mfit\u001b[1;34m(self, X, y, sample_weight)\u001b[0m\n\u001b[0;32m   1530\u001b[0m \u001b[1;33m\u001b[0m\u001b[0m\n\u001b[0;32m   1531\u001b[0m         X, y = check_X_y(X, y, accept_sparse='csr', dtype=_dtype, order=\"C\",\n\u001b[1;32m-> 1532\u001b[1;33m                          accept_large_sparse=solver != 'liblinear')\n\u001b[0m\u001b[0;32m   1533\u001b[0m         \u001b[0mcheck_classification_targets\u001b[0m\u001b[1;33m(\u001b[0m\u001b[0my\u001b[0m\u001b[1;33m)\u001b[0m\u001b[1;33m\u001b[0m\u001b[1;33m\u001b[0m\u001b[0m\n\u001b[0;32m   1534\u001b[0m         \u001b[0mself\u001b[0m\u001b[1;33m.\u001b[0m\u001b[0mclasses_\u001b[0m \u001b[1;33m=\u001b[0m \u001b[0mnp\u001b[0m\u001b[1;33m.\u001b[0m\u001b[0munique\u001b[0m\u001b[1;33m(\u001b[0m\u001b[0my\u001b[0m\u001b[1;33m)\u001b[0m\u001b[1;33m\u001b[0m\u001b[1;33m\u001b[0m\u001b[0m\n",
      "\u001b[1;32m~\\Anaconda3\\lib\\site-packages\\sklearn\\utils\\validation.py\u001b[0m in \u001b[0;36mcheck_X_y\u001b[1;34m(X, y, accept_sparse, accept_large_sparse, dtype, order, copy, force_all_finite, ensure_2d, allow_nd, multi_output, ensure_min_samples, ensure_min_features, y_numeric, warn_on_dtype, estimator)\u001b[0m\n\u001b[0;32m    717\u001b[0m                     \u001b[0mensure_min_features\u001b[0m\u001b[1;33m=\u001b[0m\u001b[0mensure_min_features\u001b[0m\u001b[1;33m,\u001b[0m\u001b[1;33m\u001b[0m\u001b[1;33m\u001b[0m\u001b[0m\n\u001b[0;32m    718\u001b[0m                     \u001b[0mwarn_on_dtype\u001b[0m\u001b[1;33m=\u001b[0m\u001b[0mwarn_on_dtype\u001b[0m\u001b[1;33m,\u001b[0m\u001b[1;33m\u001b[0m\u001b[1;33m\u001b[0m\u001b[0m\n\u001b[1;32m--> 719\u001b[1;33m                     estimator=estimator)\n\u001b[0m\u001b[0;32m    720\u001b[0m     \u001b[1;32mif\u001b[0m \u001b[0mmulti_output\u001b[0m\u001b[1;33m:\u001b[0m\u001b[1;33m\u001b[0m\u001b[1;33m\u001b[0m\u001b[0m\n\u001b[0;32m    721\u001b[0m         y = check_array(y, 'csr', force_all_finite=True, ensure_2d=False,\n",
      "\u001b[1;32m~\\Anaconda3\\lib\\site-packages\\sklearn\\utils\\validation.py\u001b[0m in \u001b[0;36mcheck_array\u001b[1;34m(array, accept_sparse, accept_large_sparse, dtype, order, copy, force_all_finite, ensure_2d, allow_nd, ensure_min_samples, ensure_min_features, warn_on_dtype, estimator)\u001b[0m\n\u001b[0;32m    540\u001b[0m         \u001b[1;32mif\u001b[0m \u001b[0mforce_all_finite\u001b[0m\u001b[1;33m:\u001b[0m\u001b[1;33m\u001b[0m\u001b[1;33m\u001b[0m\u001b[0m\n\u001b[0;32m    541\u001b[0m             _assert_all_finite(array,\n\u001b[1;32m--> 542\u001b[1;33m                                allow_nan=force_all_finite == 'allow-nan')\n\u001b[0m\u001b[0;32m    543\u001b[0m \u001b[1;33m\u001b[0m\u001b[0m\n\u001b[0;32m    544\u001b[0m     \u001b[1;32mif\u001b[0m \u001b[0mensure_min_samples\u001b[0m \u001b[1;33m>\u001b[0m \u001b[1;36m0\u001b[0m\u001b[1;33m:\u001b[0m\u001b[1;33m\u001b[0m\u001b[1;33m\u001b[0m\u001b[0m\n",
      "\u001b[1;32m~\\Anaconda3\\lib\\site-packages\\sklearn\\utils\\validation.py\u001b[0m in \u001b[0;36m_assert_all_finite\u001b[1;34m(X, allow_nan)\u001b[0m\n\u001b[0;32m     54\u001b[0m                 not allow_nan and not np.isfinite(X).all()):\n\u001b[0;32m     55\u001b[0m             \u001b[0mtype_err\u001b[0m \u001b[1;33m=\u001b[0m \u001b[1;34m'infinity'\u001b[0m \u001b[1;32mif\u001b[0m \u001b[0mallow_nan\u001b[0m \u001b[1;32melse\u001b[0m \u001b[1;34m'NaN, infinity'\u001b[0m\u001b[1;33m\u001b[0m\u001b[1;33m\u001b[0m\u001b[0m\n\u001b[1;32m---> 56\u001b[1;33m             \u001b[1;32mraise\u001b[0m \u001b[0mValueError\u001b[0m\u001b[1;33m(\u001b[0m\u001b[0mmsg_err\u001b[0m\u001b[1;33m.\u001b[0m\u001b[0mformat\u001b[0m\u001b[1;33m(\u001b[0m\u001b[0mtype_err\u001b[0m\u001b[1;33m,\u001b[0m \u001b[0mX\u001b[0m\u001b[1;33m.\u001b[0m\u001b[0mdtype\u001b[0m\u001b[1;33m)\u001b[0m\u001b[1;33m)\u001b[0m\u001b[1;33m\u001b[0m\u001b[1;33m\u001b[0m\u001b[0m\n\u001b[0m\u001b[0;32m     57\u001b[0m     \u001b[1;31m# for object dtype data, we only check for NaNs (GH-13254)\u001b[0m\u001b[1;33m\u001b[0m\u001b[1;33m\u001b[0m\u001b[1;33m\u001b[0m\u001b[0m\n\u001b[0;32m     58\u001b[0m     \u001b[1;32melif\u001b[0m \u001b[0mX\u001b[0m\u001b[1;33m.\u001b[0m\u001b[0mdtype\u001b[0m \u001b[1;33m==\u001b[0m \u001b[0mnp\u001b[0m\u001b[1;33m.\u001b[0m\u001b[0mdtype\u001b[0m\u001b[1;33m(\u001b[0m\u001b[1;34m'object'\u001b[0m\u001b[1;33m)\u001b[0m \u001b[1;32mand\u001b[0m \u001b[1;32mnot\u001b[0m \u001b[0mallow_nan\u001b[0m\u001b[1;33m:\u001b[0m\u001b[1;33m\u001b[0m\u001b[1;33m\u001b[0m\u001b[0m\n",
      "\u001b[1;31mValueError\u001b[0m: Input contains NaN, infinity or a value too large for dtype('float64')."
     ]
    }
   ],
   "source": [
    "from sklearn.preprocessing import StandardScaler\n",
    "train_data_lr, test_data_lr = train_test_split(data_model_logit, test_size = 0.2)\n",
    "scaler = StandardScaler()\n",
    "x_train_lr = scaler.fit_transform(pd.get_dummies(train_data_lr[[\"Zone1Position\", \"Zone2Position\", \"Zone3Position\", \"SKU\", \"Block_Num\", \n",
    "                                     \"Block_Position\",\"Zone3_Humidity_Avg\", \"Zone2_Humidity_Avg\", \"Zone1_Humidity_Avg\",\n",
    "                                     \"Zone3_Temp_Avg\",\"Zone2_Temp_Avg\", \"Zone1_Temp_Avg\", \"Zone1_Dur\", \"Zone2_Dur\", \n",
    "                                     \"Zone3_Dur\"]],drop_first=True))\n",
    "                           \n",
    "y_train_lr = train_data_lr[\"Result_binary\"]\n",
    "lr = LogisticRegression(random_state=0).fit(x_train_lr, y_train_lr)\n",
    "x_test_lr = scaler.fit_transform(pd.get_dummies(test_data_lr[[\"Zone1Position\", \"Zone2Position\", \"Zone3Position\", \"SKU\", \"Block_Num\", \n",
    "                                     \"Block_Position\",\"Zone3_Humidity_Avg\", \"Zone2_Humidity_Avg\", \"Zone1_Humidity_Avg\",\n",
    "                                     \"Zone3_Temp_Avg\",\"Zone2_Temp_Avg\", \"Zone1_Temp_Avg\", \"Zone1_Dur\", \"Zone2_Dur\", \n",
    "                                     \"Zone3_Dur\"]],drop_first=True))\n",
    "y_test_lr = test_data_lr[\"Result_binary\"]\n",
    "y_pred_lr = lr.predict(X_test_lr)\n",
    "print(classification_report(y_test_lr, y_pred_lr))"
   ]
  },
  {
   "cell_type": "code",
   "execution_count": 56,
   "metadata": {},
   "outputs": [
    {
     "ename": "SyntaxError",
     "evalue": "unexpected EOF while parsing (<ipython-input-56-ab250bbf2681>, line 5)",
     "output_type": "error",
     "traceback": [
      "\u001b[1;36m  File \u001b[1;32m\"<ipython-input-56-ab250bbf2681>\"\u001b[1;36m, line \u001b[1;32m5\u001b[0m\n\u001b[1;33m    \"Zone3_Dur\"]\u001b[0m\n\u001b[1;37m                ^\u001b[0m\n\u001b[1;31mSyntaxError\u001b[0m\u001b[1;31m:\u001b[0m unexpected EOF while parsing\n"
     ]
    }
   ],
   "source": []
  },
  {
   "cell_type": "code",
   "execution_count": null,
   "metadata": {},
   "outputs": [],
   "source": []
  }
 ],
 "metadata": {
  "kernelspec": {
   "display_name": "Python 3",
   "language": "python",
   "name": "python3"
  },
  "language_info": {
   "codemirror_mode": {
    "name": "ipython",
    "version": 3
   },
   "file_extension": ".py",
   "mimetype": "text/x-python",
   "name": "python",
   "nbconvert_exporter": "python",
   "pygments_lexer": "ipython3",
   "version": "3.7.4"
  }
 },
 "nbformat": 4,
 "nbformat_minor": 2
}
